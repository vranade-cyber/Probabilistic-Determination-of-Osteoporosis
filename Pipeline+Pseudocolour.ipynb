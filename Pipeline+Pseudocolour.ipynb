{
 "cells": [
  {
   "cell_type": "code",
   "execution_count": 5,
   "id": "6ee12cc1",
   "metadata": {},
   "outputs": [],
   "source": [
    "#Reset all variables during rerun\n",
    "from IPython import get_ipython\n",
    "get_ipython().magic('reset -sf')\n",
    "\n",
    "normal='G:/My Drive/24-678 Computer Vision for Engineers/Project/normal/*.*'              ## Change path\n",
    "osteoporosis='G:/My Drive/24-678 Computer Vision for Engineers/Project/osteoporosis/*.*'"
   ]
  },
  {
   "cell_type": "code",
   "execution_count": 6,
   "id": "c5bb66a6",
   "metadata": {},
   "outputs": [],
   "source": [
    "import numpy as np\n",
    "import cv2\n",
    "import PIL\n",
    "import glob\n",
    "import matplotlib.pyplot as plt"
   ]
  },
  {
   "cell_type": "code",
   "execution_count": 7,
   "id": "edeb8ae0",
   "metadata": {},
   "outputs": [],
   "source": [
    "def Image_block(path):\n",
    "  file_list=glob.glob(path)\n",
    "  original_files=[]   # Unchanged Lists\n",
    "  my_list=[]          # Colored arrays stored after resizing with aspect ratio intact       \n",
    "  gray_scale_list=[]  # List of gray_Scaled Images\n",
    "  PCA_block=[]        # Block of Gray Scale can be directly used for PCA\n",
    "  PCA_block_pad=[]    # Paddable block. Use above Dataset and custom DataLoader to process\n",
    "  labels=[]           # Detect Labels Based on condition, Condition derived by Folder\n",
    "  dimensions=[]\n",
    "\n",
    "  d=path.split('/')\n",
    "  s=d[5]\n",
    "  #print(s)\n",
    "  \n",
    "  count=0\n",
    "  for file in file_list:\n",
    "\n",
    "    img=cv2.imread(file)\n",
    "\n",
    "    (h,w)=np.shape(img)[:2]\n",
    "\n",
    "    w1=w//8\n",
    "    h1=h//8\n",
    "\n",
    "    img_resized=cv2.resize(img,(w1,h1),interpolation=cv2.INTER_AREA)\n",
    "\n",
    "    dimensions.append((w1,h1))        # Weight and height stored\n",
    "    flat_img=img_resized.reshape(-1,3)\n",
    "    #print(np.shape(flat_img))\n",
    "    original_files.append(img)  # Deprecated Object\n",
    "    my_list.append(flat_img)\n",
    "\n",
    "    gray=cv2.cvtColor(img,cv2.COLOR_BGR2GRAY)\n",
    "    gray_scaled=cv2.resize(gray,(512,512))\n",
    "    gray_resized=cv2.resize(gray,(w1,h1),interpolation=cv2.INTER_AREA)\n",
    "\n",
    "    gray_scale_list.append(gray_scaled)\n",
    "\n",
    "    flattened_img=gray_resized.flatten()\n",
    "\n",
    "    PCA_block.append(flattened_img)\n",
    "    PCA_block_pad.append(gray_scaled.flatten())\n",
    "\n",
    "    if s=='normal':\n",
    "      labels.append(0)\n",
    "    else:\n",
    "      labels.append(1)\n",
    "    \n",
    "    count +=1\n",
    "  PCA_block=np.asarray(PCA_block)\n",
    "  PCA_block_pad=np.asarray(PCA_block_pad)\n",
    "  print(np.shape(PCA_block))\n",
    "  print(np.shape(PCA_block_pad))\n",
    "  print(count)\n",
    "\n",
    "  return original_files,my_list,gray_scale_list,PCA_block,PCA_block_pad,labels,dimensions"
   ]
  },
  {
   "cell_type": "code",
   "execution_count": 8,
   "id": "6916cdb1",
   "metadata": {},
   "outputs": [
    {
     "name": "stdout",
     "output_type": "stream",
     "text": [
      "(186,)\n",
      "(186, 262144)\n",
      "186\n"
     ]
    },
    {
     "name": "stderr",
     "output_type": "stream",
     "text": [
      "C:\\Users\\jaydu\\anaconda3\\lib\\site-packages\\numpy\\core\\_asarray.py:102: VisibleDeprecationWarning: Creating an ndarray from ragged nested sequences (which is a list-or-tuple of lists-or-tuples-or ndarrays with different lengths or shapes) is deprecated. If you meant to do this, you must specify 'dtype=object' when creating the ndarray.\n",
      "  return array(a, dtype, copy=False, order=order)\n"
     ]
    }
   ],
   "source": [
    "a,b,c,d,e,f,g=Image_block(normal)"
   ]
  },
  {
   "cell_type": "code",
   "execution_count": 9,
   "id": "844165ca",
   "metadata": {},
   "outputs": [
    {
     "name": "stdout",
     "output_type": "stream",
     "text": [
      "(186,)\n",
      "(186, 262144)\n",
      "186\n"
     ]
    }
   ],
   "source": [
    "h,i,j,k,l,m,n = Image_block(osteoporosis)"
   ]
  },
  {
   "cell_type": "code",
   "execution_count": 10,
   "id": "df6568c7",
   "metadata": {},
   "outputs": [],
   "source": [
    "def pseudo(name,image):\n",
    "    img2 = image.copy().astype(\"float32\")\n",
    "    for i in range(img2.shape[2]):\n",
    "        img2[:,:,i] = (img2[:,:,i]-np.min(img2[:,:,i]))/(np.max(img2[:,:,i])-np.min(img2[:,:,i]))\n",
    "        img2[:,:,i] *= 255\n",
    "\n",
    "    lut_list_bgr = np.zeros((256,1,3)).astype(\"uint8\")\n",
    "\n",
    "    for i in range(128,192):\n",
    "        lut_list_bgr[i,0,2] = 4*(i-127.5)\n",
    "        lut_list_bgr[i,0,1] = 255\n",
    "\n",
    "    for j in range(192,256):\n",
    "        lut_list_bgr[j,0,2] = 255\n",
    "        lut_list_bgr[j,0,1] = 4*(191.25-j) + 255\n",
    "\n",
    "    for k in range(0,64):\n",
    "        lut_list_bgr[k,0,0] = 255\n",
    "        lut_list_bgr[k,0,1] = 4*k\n",
    "\n",
    "    for m in range(64,128):\n",
    "        lut_list_bgr[m,0,0] = 4*(63.75-m)+255\n",
    "        lut_list_bgr[m,0,1] = 255\n",
    "\n",
    "    lut_list_bgrop = lut_list_bgr.astype(\"uint8\")\n",
    "    img2 = img2.astype(\"uint8\")\n",
    "\n",
    "    imp = cv2.LUT(img2,lut_list_bgrop)\n",
    "    \n",
    "    img_gray = cv2.cvtColor(image,cv2.COLOR_BGR2GRAY)\n",
    "    \n",
    "    centre_coord = np.argwhere(img_gray==np.amax(img_gray))\n",
    "    centre = (np.mean(centre_coord,axis=0)).astype(int)\n",
    "    count = 0\n",
    "    for i in centre_coord:\n",
    "        imp = cv2.circle(imp,(i[1],i[0]),15,(255,255,255),2)\n",
    "        count += 1\n",
    "#     imp = cv2.line(imp,(centre[1]-25,centre[0]),(centre[1]+25,centre[0]),(255,255,255),2)\n",
    "#     imp = cv2.line(imp,(centre[1],centre[0]-25),(centre[1],centre[0]+25),(255,255,255),2)\n",
    "    \n",
    "#     cv2.imshow(\"applyColorMap\",imp)\n",
    "#     cv2.waitKey(0)\n",
    "#     save = input(\"Save the image? \")#(press y to save image)\n",
    "#     if save == \"Y\" or save == \"y\":\n",
    "    cv2.imwrite(\"OG\"+str(name)+\"_pseudo.png\",imp)\n",
    "    #cv2.waitKey(0)\n",
    "    return count, imp"
   ]
  },
  {
   "cell_type": "code",
   "execution_count": 11,
   "id": "83ae46f0",
   "metadata": {},
   "outputs": [],
   "source": [
    "# for elem in range(186):\n",
    "#     pseudo(\"Normal_\"+str(elem),a[elem])"
   ]
  },
  {
   "cell_type": "code",
   "execution_count": null,
   "id": "0c6bfdee",
   "metadata": {},
   "outputs": [],
   "source": [
    "for elem in range(186):\n",
    "    pseudo(\"Osteoporotic_\"+str(elem),h[elem])"
   ]
  },
  {
   "cell_type": "code",
   "execution_count": null,
   "id": "b220fbb9",
   "metadata": {},
   "outputs": [],
   "source": []
  }
 ],
 "metadata": {
  "kernelspec": {
   "display_name": "Python 3 (ipykernel)",
   "language": "python",
   "name": "python3"
  },
  "language_info": {
   "codemirror_mode": {
    "name": "ipython",
    "version": 3
   },
   "file_extension": ".py",
   "mimetype": "text/x-python",
   "name": "python",
   "nbconvert_exporter": "python",
   "pygments_lexer": "ipython3",
   "version": "3.8.8"
  }
 },
 "nbformat": 4,
 "nbformat_minor": 5
}
